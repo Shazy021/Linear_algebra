{
 "cells": [
  {
   "cell_type": "markdown",
   "metadata": {
    "toc": true
   },
   "source": [
    "<h1>Содержание<span class=\"tocSkip\"></span></h1>\n",
    "<div class=\"toc\"><ul class=\"toc-item\"><li><span><a href=\"#1.-Загрузка-данных\" data-toc-modified-id=\"1.-Загрузка-данных-1\">1. Загрузка данных</a></span><ul class=\"toc-item\"><li><span><a href=\"#Вывод\" data-toc-modified-id=\"Вывод-1.1\">Вывод</a></span></li></ul></li><li><span><a href=\"#2.-Умножение-матриц\" data-toc-modified-id=\"2.-Умножение-матриц-2\">2. Умножение матриц</a></span></li><li><span><a href=\"#3.-Алгоритм-преобразования\" data-toc-modified-id=\"3.-Алгоритм-преобразования-3\">3. Алгоритм преобразования</a></span></li><li><span><a href=\"#4.-Проверка-алгоритма\" data-toc-modified-id=\"4.-Проверка-алгоритма-4\">4. Проверка алгоритма</a></span><ul class=\"toc-item\"><li><span><a href=\"#4.1-Исследуем-качество-модели-без-преобразования.\" data-toc-modified-id=\"4.1-Исследуем-качество-модели-без-преобразования.-4.1\">4.1 Исследуем качество модели без преобразования.</a></span></li><li><span><a href=\"#4.2-Исследуем-качество-модели-с-преобразованием.\" data-toc-modified-id=\"4.2-Исследуем-качество-модели-с-преобразованием.-4.2\">4.2 Исследуем качество модели с преобразованием.</a></span></li><li><span><a href=\"#4.3-Результат-моделей\" data-toc-modified-id=\"4.3-Результат-моделей-4.3\">4.3 Результат моделей</a></span></li></ul></li><li><span><a href=\"#Итоговый-вывод\" data-toc-modified-id=\"Итоговый-вывод-5\">Итоговый вывод</a></span></li>"
   ]
  },
  {
   "cell_type": "markdown",
   "metadata": {},
   "source": [
    "# Защита персональных данных клиентов"
   ]
  },
  {
   "cell_type": "markdown",
   "metadata": {},
   "source": [
    "Нам нужно защитить данные клиентов страховой компании. Разработайте такой метод преобразования данных, чтобы по ним было сложно восстановить персональную информацию. Обоснуйте корректность его работы.\n",
    "\n",
    "Нужно защитить данные, чтобы при преобразовании качество моделей машинного обучения не ухудшилось. Подбирать наилучшую модель не требуется."
   ]
  },
  {
   "cell_type": "markdown",
   "metadata": {},
   "source": [
    "***\n",
    "## 1. Загрузка данных"
   ]
  },
  {
   "cell_type": "code",
   "execution_count": 1,
   "metadata": {},
   "outputs": [],
   "source": [
    "import matplotlib.pyplot as plt\n",
    "import numpy as np\n",
    "import os\n",
    "import pandas as pd\n",
    "import seaborn as sns\n",
    "\n",
    "\n",
    "from sklearn.linear_model import LinearRegression\n",
    "from sklearn.metrics import r2_score\n",
    "from sklearn.model_selection import train_test_split\n",
    "from sklearn.preprocessing import StandardScaler\n",
    "from sklearn.pipeline import make_pipeline\n",
    "\n",
    "import warnings\n",
    "warnings.filterwarnings(\"ignore\")\n",
    "\n",
    "RND = 2102"
   ]
  },
  {
   "cell_type": "code",
   "execution_count": 2,
   "metadata": {},
   "outputs": [],
   "source": [
    "pth = './datasets/insurance.csv'\n",
    "\n",
    "if os.path.exists(pth):\n",
    "    df = pd.read_csv(pth)\n",
    "else:\n",
    "    print('Something is wrong')"
   ]
  },
  {
   "cell_type": "code",
   "execution_count": 3,
   "metadata": {},
   "outputs": [],
   "source": [
    "def first_check(df):\n",
    "    print(df.info())\n",
    "    print(f'Shape: {df.shape}')\n",
    "    display(df.head())\n",
    "    print(f'Количество дубликатов: {df.duplicated().sum()}')\n",
    "    display(df.describe())"
   ]
  },
  {
   "cell_type": "code",
   "execution_count": 4,
   "metadata": {},
   "outputs": [
    {
     "name": "stdout",
     "output_type": "stream",
     "text": [
      "<class 'pandas.core.frame.DataFrame'>\n",
      "RangeIndex: 5000 entries, 0 to 4999\n",
      "Data columns (total 5 columns):\n",
      " #   Column             Non-Null Count  Dtype  \n",
      "---  ------             --------------  -----  \n",
      " 0   Пол                5000 non-null   int64  \n",
      " 1   Возраст            5000 non-null   float64\n",
      " 2   Зарплата           5000 non-null   float64\n",
      " 3   Члены семьи        5000 non-null   int64  \n",
      " 4   Страховые выплаты  5000 non-null   int64  \n",
      "dtypes: float64(2), int64(3)\n",
      "memory usage: 195.4 KB\n",
      "None\n",
      "Shape: (5000, 5)\n"
     ]
    },
    {
     "data": {
      "text/html": [
       "<div>\n",
       "<style scoped>\n",
       "    .dataframe tbody tr th:only-of-type {\n",
       "        vertical-align: middle;\n",
       "    }\n",
       "\n",
       "    .dataframe tbody tr th {\n",
       "        vertical-align: top;\n",
       "    }\n",
       "\n",
       "    .dataframe thead th {\n",
       "        text-align: right;\n",
       "    }\n",
       "</style>\n",
       "<table border=\"1\" class=\"dataframe\">\n",
       "  <thead>\n",
       "    <tr style=\"text-align: right;\">\n",
       "      <th></th>\n",
       "      <th>Пол</th>\n",
       "      <th>Возраст</th>\n",
       "      <th>Зарплата</th>\n",
       "      <th>Члены семьи</th>\n",
       "      <th>Страховые выплаты</th>\n",
       "    </tr>\n",
       "  </thead>\n",
       "  <tbody>\n",
       "    <tr>\n",
       "      <th>0</th>\n",
       "      <td>1</td>\n",
       "      <td>41.0</td>\n",
       "      <td>49600.0</td>\n",
       "      <td>1</td>\n",
       "      <td>0</td>\n",
       "    </tr>\n",
       "    <tr>\n",
       "      <th>1</th>\n",
       "      <td>0</td>\n",
       "      <td>46.0</td>\n",
       "      <td>38000.0</td>\n",
       "      <td>1</td>\n",
       "      <td>1</td>\n",
       "    </tr>\n",
       "    <tr>\n",
       "      <th>2</th>\n",
       "      <td>0</td>\n",
       "      <td>29.0</td>\n",
       "      <td>21000.0</td>\n",
       "      <td>0</td>\n",
       "      <td>0</td>\n",
       "    </tr>\n",
       "    <tr>\n",
       "      <th>3</th>\n",
       "      <td>0</td>\n",
       "      <td>21.0</td>\n",
       "      <td>41700.0</td>\n",
       "      <td>2</td>\n",
       "      <td>0</td>\n",
       "    </tr>\n",
       "    <tr>\n",
       "      <th>4</th>\n",
       "      <td>1</td>\n",
       "      <td>28.0</td>\n",
       "      <td>26100.0</td>\n",
       "      <td>0</td>\n",
       "      <td>0</td>\n",
       "    </tr>\n",
       "  </tbody>\n",
       "</table>\n",
       "</div>"
      ],
      "text/plain": [
       "   Пол  Возраст  Зарплата  Члены семьи  Страховые выплаты\n",
       "0    1     41.0   49600.0            1                  0\n",
       "1    0     46.0   38000.0            1                  1\n",
       "2    0     29.0   21000.0            0                  0\n",
       "3    0     21.0   41700.0            2                  0\n",
       "4    1     28.0   26100.0            0                  0"
      ]
     },
     "metadata": {},
     "output_type": "display_data"
    },
    {
     "name": "stdout",
     "output_type": "stream",
     "text": [
      "Количество дубликатов: 153\n"
     ]
    },
    {
     "data": {
      "text/html": [
       "<div>\n",
       "<style scoped>\n",
       "    .dataframe tbody tr th:only-of-type {\n",
       "        vertical-align: middle;\n",
       "    }\n",
       "\n",
       "    .dataframe tbody tr th {\n",
       "        vertical-align: top;\n",
       "    }\n",
       "\n",
       "    .dataframe thead th {\n",
       "        text-align: right;\n",
       "    }\n",
       "</style>\n",
       "<table border=\"1\" class=\"dataframe\">\n",
       "  <thead>\n",
       "    <tr style=\"text-align: right;\">\n",
       "      <th></th>\n",
       "      <th>Пол</th>\n",
       "      <th>Возраст</th>\n",
       "      <th>Зарплата</th>\n",
       "      <th>Члены семьи</th>\n",
       "      <th>Страховые выплаты</th>\n",
       "    </tr>\n",
       "  </thead>\n",
       "  <tbody>\n",
       "    <tr>\n",
       "      <th>count</th>\n",
       "      <td>5000.000000</td>\n",
       "      <td>5000.000000</td>\n",
       "      <td>5000.000000</td>\n",
       "      <td>5000.000000</td>\n",
       "      <td>5000.000000</td>\n",
       "    </tr>\n",
       "    <tr>\n",
       "      <th>mean</th>\n",
       "      <td>0.499000</td>\n",
       "      <td>30.952800</td>\n",
       "      <td>39916.360000</td>\n",
       "      <td>1.194200</td>\n",
       "      <td>0.148000</td>\n",
       "    </tr>\n",
       "    <tr>\n",
       "      <th>std</th>\n",
       "      <td>0.500049</td>\n",
       "      <td>8.440807</td>\n",
       "      <td>9900.083569</td>\n",
       "      <td>1.091387</td>\n",
       "      <td>0.463183</td>\n",
       "    </tr>\n",
       "    <tr>\n",
       "      <th>min</th>\n",
       "      <td>0.000000</td>\n",
       "      <td>18.000000</td>\n",
       "      <td>5300.000000</td>\n",
       "      <td>0.000000</td>\n",
       "      <td>0.000000</td>\n",
       "    </tr>\n",
       "    <tr>\n",
       "      <th>25%</th>\n",
       "      <td>0.000000</td>\n",
       "      <td>24.000000</td>\n",
       "      <td>33300.000000</td>\n",
       "      <td>0.000000</td>\n",
       "      <td>0.000000</td>\n",
       "    </tr>\n",
       "    <tr>\n",
       "      <th>50%</th>\n",
       "      <td>0.000000</td>\n",
       "      <td>30.000000</td>\n",
       "      <td>40200.000000</td>\n",
       "      <td>1.000000</td>\n",
       "      <td>0.000000</td>\n",
       "    </tr>\n",
       "    <tr>\n",
       "      <th>75%</th>\n",
       "      <td>1.000000</td>\n",
       "      <td>37.000000</td>\n",
       "      <td>46600.000000</td>\n",
       "      <td>2.000000</td>\n",
       "      <td>0.000000</td>\n",
       "    </tr>\n",
       "    <tr>\n",
       "      <th>max</th>\n",
       "      <td>1.000000</td>\n",
       "      <td>65.000000</td>\n",
       "      <td>79000.000000</td>\n",
       "      <td>6.000000</td>\n",
       "      <td>5.000000</td>\n",
       "    </tr>\n",
       "  </tbody>\n",
       "</table>\n",
       "</div>"
      ],
      "text/plain": [
       "               Пол      Возраст      Зарплата  Члены семьи  Страховые выплаты\n",
       "count  5000.000000  5000.000000   5000.000000  5000.000000        5000.000000\n",
       "mean      0.499000    30.952800  39916.360000     1.194200           0.148000\n",
       "std       0.500049     8.440807   9900.083569     1.091387           0.463183\n",
       "min       0.000000    18.000000   5300.000000     0.000000           0.000000\n",
       "25%       0.000000    24.000000  33300.000000     0.000000           0.000000\n",
       "50%       0.000000    30.000000  40200.000000     1.000000           0.000000\n",
       "75%       1.000000    37.000000  46600.000000     2.000000           0.000000\n",
       "max       1.000000    65.000000  79000.000000     6.000000           5.000000"
      ]
     },
     "metadata": {},
     "output_type": "display_data"
    }
   ],
   "source": [
    "first_check(df)"
   ]
  },
  {
   "cell_type": "markdown",
   "metadata": {},
   "source": [
    "153 дубликата. Так как вариативность данных низка по причине малого количества данных\\признаков, то подобное количество дубликатов допустимо. Оставим как есть."
   ]
  },
  {
   "cell_type": "code",
   "execution_count": 5,
   "metadata": {},
   "outputs": [
    {
     "data": {
      "image/png": "[encoded data removed]",
      "text/plain": [
       "<Figure size 864x360 with 1 Axes>"
      ]
     },
     "metadata": {
      "needs_background": "light"
     },
     "output_type": "display_data"
    },
    {
     "data": {
      "image/png": "[encoded data removed]",
      "text/plain": [
       "<Figure size 864x360 with 1 Axes>"
      ]
     },
     "metadata": {
      "needs_background": "light"
     },
     "output_type": "display_data"
    },
    {
     "data": {
      "image/png": "[encoded data removed]",
      "text/plain": [
       "<Figure size 864x360 with 1 Axes>"
      ]
     },
     "metadata": {
      "needs_background": "light"
     },
     "output_type": "display_data"
    }
   ],
   "source": [
    "count_spis = ['Пол', 'Страховые выплаты', 'Члены семьи']\n",
    "\n",
    "for title in count_spis:\n",
    "    fig, ax = plt.subplots(figsize=(12, 5))\n",
    "    sns.countplot(x=title, data=df)\n",
    "    ax.set_title(title)\n",
    "    plt.ylabel('Количество')\n",
    "    plt.show()"
   ]
  },
  {
   "cell_type": "code",
   "execution_count": 6,
   "metadata": {},
   "outputs": [
    {
     "data": {
      "image/png": "[encoded data removed]",
      "text/plain": [
       "<Figure size 864x360 with 1 Axes>"
      ]
     },
     "metadata": {
      "needs_background": "light"
     },
     "output_type": "display_data"
    },
    {
     "data": {
      "image/png": "[encoded data removed]",
      "text/plain": [
       "<Figure size 864x360 with 1 Axes>"
      ]
     },
     "metadata": {
      "needs_background": "light"
     },
     "output_type": "display_data"
    }
   ],
   "source": [
    "dist_spis = ['Зарплата', 'Возраст']\n",
    "\n",
    "for title in dist_spis:\n",
    "    fig, ax = plt.subplots(figsize=(12, 5))\n",
    "    sns.distplot(df[title], bins=len(df[title].unique()))\n",
    "    ax.set_title(f'Распределение по {title}')\n",
    "    plt.ylabel('Плотность частоты');"
   ]
  },
  {
   "cell_type": "code",
   "execution_count": 7,
   "metadata": {},
   "outputs": [
    {
     "data": {
      "image/png": "[encoded data removed]",
      "text/plain": [
       "<Figure size 432x432 with 2 Axes>"
      ]
     },
     "metadata": {
      "needs_background": "light"
     },
     "output_type": "display_data"
    }
   ],
   "source": [
    "corr = df.corr()\n",
    "\n",
    "fig, ax = plt.subplots(figsize=(6, 6))\n",
    "sns.heatmap(corr, annot=True, square=True, vmin=-1, vmax=1, cmap=\"Blues\")\n",
    "plt.title('Корреляция')\n",
    "plt.show()"
   ]
  },
  {
   "cell_type": "markdown",
   "metadata": {},
   "source": [
    "### Вывод"
   ]
  },
  {
   "cell_type": "markdown",
   "metadata": {},
   "source": [
    "* `5000` строк и `5` столбцов\n",
    "* target: `Страховые выплаты`\n",
    "* features: `Пол`, `Возраст`, `Зарплата`, `Члены семьи`\n",
    "* Заметная корреляция (по шкале Чеддока) между Возрастом и Страховыми выплатами: `0.65`\n",
    "* Данные пришли уже в обработанном состоянии"
   ]
  },
  {
   "cell_type": "markdown",
   "metadata": {},
   "source": [
    "***\n",
    "## 2. Умножение матриц"
   ]
  },
  {
   "cell_type": "markdown",
   "metadata": {},
   "source": [
    "Обозначения:\n",
    "\n",
    "- $X$ — матрица признаков (нулевой столбец состоит из единиц)\n",
    "\n",
    "- $y$ — вектор целевого признака\n",
    "\n",
    "- $P$ — матрица, на которую умножаются признаки\n",
    "\n",
    "- $w$ — вектор весов линейной регрессии (нулевой элемент равен сдвигу)"
   ]
  },
  {
   "cell_type": "markdown",
   "metadata": {},
   "source": [
    "Предсказания:\n",
    "\n",
    "$$\n",
    "a = Xw\n",
    "$$\n",
    "\n",
    "Задача обучения:\n",
    "\n",
    "$$\n",
    "w = \\arg\\min_w MSE(Xw, y)\n",
    "$$\n",
    "\n",
    "Формула обучения:\n",
    "\n",
    "$$\n",
    "w = (X^T X)^{-1} X^T y\n",
    "$$"
   ]
  },
  {
   "cell_type": "markdown",
   "metadata": {},
   "source": [
    "**Вопрос**\n",
    "\n",
    "Признаки умножают на обратимую матрицу. Изменится ли качество линейной регрессии? (Её можно обучить заново.)"
   ]
  },
  {
   "cell_type": "markdown",
   "metadata": {},
   "source": [
    "**Ответ:**\n",
    "\n",
    "* **Не изменится**\n",
    "\n",
    "Заменим матрицу X на Z\n",
    "$$\n",
    "Z = XP \\qquad (2.1)\n",
    "$$\n",
    "где $P$ - строго **обратимая** матрица с некими значениями, на которую может быть умножена матрица $X$\n",
    "\n",
    "**Обоснование:**\n",
    "\n",
    "1) Подставим новое значение $Z$ в формулу $w_1$:\n",
    "$$\n",
    "(Z^TZ)^{-1} Z^T y \\qquad (2.2)\n",
    "$$\n",
    "\n",
    "2) Заменим все $Z$ правой частью уравнения 2.1:\n",
    "$$\n",
    "((XP)^T XP)^{-1} (XP)^T y \\qquad (2.3)\n",
    "$$\n",
    "\n",
    "3) Раскроем все произведения $(XP)^T$:\n",
    "$$\n",
    "(P^T X^T XP)^{-1} P^T X^T y \\qquad (2.4)\n",
    "$$\n",
    "\n",
    "4) Сгруппируем множители в скобках $(P^T X^T XP)^{-1}$:\n",
    "$$\n",
    "(P^T (X^T X) P)^{-1} P^T X^T y \\qquad (2.5)\n",
    "$$\n",
    "\n",
    "5) Раскроем скобки $(P^T (X^T X) P)^{-1}$:\n",
    "$$\n",
    "P^{-1} (X^T X)^{-1} (P^T)^{-1} P^T X^T y \\qquad (2.6)\n",
    "$$\n",
    "\n",
    "6) Так как $P$ - строго **обратимая** (из условия, прописывал в Ответе на вопрос) матрица, то $(P^T)^{-1} P^T = E$ :\n",
    "$$\n",
    "P^{-1} (X^T X)^{-1} EX^T = P^{-1} (X^T X)^{-1} X^T \\qquad (2.7)\n",
    "$$\n",
    "\n",
    "7) Исходя из условия $w = (X^T X)^{-1} X^T y$, следовательно\n",
    "$$\n",
    "w_1 = P^{-1} (X^T X)^{-1} X^T = P^{-1}w \\qquad (2.8)\n",
    "$$"
   ]
  },
  {
   "cell_type": "markdown",
   "metadata": {},
   "source": [
    "***\n",
    "Предсказания модели расчитываются по формуле:\n",
    "$$\n",
    "a = Xw\n",
    "$$\n",
    "\n",
    "Подставим в эту ф-лу значения $Z$ и $w_1$:\n",
    "$$\n",
    "a_1 = Zw_1 = XP P^{-1}w\n",
    "$$\n",
    "\n",
    "Так как $P$ - строго **обратимая** (из условия, прописывал в Ответе на вопрос) матрица, то:\n",
    "$$\n",
    "a_1 = XP P^{-1}w = XEw = Xw\n",
    "$$\n",
    "\n",
    "Мы доказали, что предсказания $a_1$ для матрицы признаков, умноженных на обратимую матрицу $P$ равны предсказаниям $a$. Следовательно, отвечая на вопрос *изменится ли качество линейной регрессии при умножении признаков на обратимую матрицу* - **нет, не изменится**. В данном случае, параметры линейной регрессии в исходной задаче $w$ и в преобразованной $w_1$ связаны следующим образом:\n",
    "$$\n",
    "w_1 = P^{-1}w\n",
    "$$"
   ]
  },
  {
   "cell_type": "markdown",
   "metadata": {},
   "source": [
    "***\n",
    "## 3. Алгоритм преобразования"
   ]
  },
  {
   "cell_type": "markdown",
   "metadata": {},
   "source": [
    "**Алгоритм**\n",
    "\n",
    "Для защиты информации на этапе поиска коэффициентов регрессии и предсказаний регрессии будем умножать матрицу признаков на обратимую матрицу (nxn, где n - число столбцов в матрице признаков) , которая будет генерироваться случайным образом.\n",
    "\n",
    "Этапы алгоритма:\n",
    "1) Составление матрицы $Y$.\n",
    "\n",
    "2) Проверка матрицы на обратимость. Вычисление детерминанта матрицы $\\det{Y}$.\n",
    "\n",
    "3) Получение матрицы преобразованных признаков $Z = XY$.\n",
    "\n",
    "4) Применение алгоритма на преобразованных признаках $Z$."
   ]
  },
  {
   "cell_type": "markdown",
   "metadata": {},
   "source": [
    "**Обоснование**\n",
    "\n",
    "Матрица $Y$ должна иметь необходимую размерность nxn , где n - количество признаков для регрессии. Таким образом матрица $Z$ будет иметь туже размерность, что и матрица $X$.\n",
    "\n",
    "Обратная матрица $Y$ существует только для квадратных невырожденных матриц (определитель которых **не равен** нулю).\n",
    "\n",
    "Проверка:"
   ]
  },
  {
   "cell_type": "code",
   "execution_count": 8,
   "metadata": {},
   "outputs": [
    {
     "name": "stdout",
     "output_type": "stream",
     "text": [
      "Матрица X:\n",
      " [[1 2]\n",
      " [3 4]\n",
      " [5 6]] \n",
      "\n",
      "Матрица Y:\n",
      " [[ 1.21924816 -1.42770921]\n",
      " [ 1.51882467  0.85776432]] \n",
      "\n",
      "Определитель матрицы Y: 3.2142675383380674\n"
     ]
    }
   ],
   "source": [
    "X = np.array([[1, 2],\n",
    "              [3, 4],\n",
    "              [5, 6]])\n",
    "n = len(X[0])\n",
    "det_y = 0\n",
    "\n",
    "while det_y == 0:\n",
    "    np.random.seed(RND)\n",
    "    Y = np.random.randn(n, n)\n",
    "    det_y = np.linalg.det(Y)\n",
    "\n",
    "det_y = np.linalg.det(Y)\n",
    "print(f'Матрица X:\\n {X} \\n')\n",
    "print(f'Матрица Y:\\n {Y} \\n')\n",
    "print(f'Определитель матрицы Y: {det_y}')"
   ]
  },
  {
   "cell_type": "markdown",
   "metadata": {},
   "source": [
    "Мы убедились, что $Y$- орбратная матрица.\n",
    "\n",
    "Найдем значние $Z$:"
   ]
  },
  {
   "cell_type": "code",
   "execution_count": 9,
   "metadata": {},
   "outputs": [
    {
     "name": "stdout",
     "output_type": "stream",
     "text": [
      "Матрица Z:\n",
      " [[ 4.2568975   0.28781944]\n",
      " [ 9.73304317 -0.85207033]\n",
      " [15.20918883 -1.9919601 ]] \n",
      "\n"
     ]
    }
   ],
   "source": [
    "Z = (X @ Y)\n",
    "print(f'Матрица Z:\\n {Z} \\n')"
   ]
  },
  {
   "cell_type": "markdown",
   "metadata": {},
   "source": [
    "После этого добавляем нулевой столбец и вводим данные в линейную регрессию."
   ]
  },
  {
   "cell_type": "markdown",
   "metadata": {},
   "source": [
    "***\n",
    "## 4. Проверка алгоритма"
   ]
  },
  {
   "cell_type": "code",
   "execution_count": 10,
   "metadata": {},
   "outputs": [],
   "source": [
    "def default_LR(features_train, features_test, target_train, target_test):    \n",
    "    \"\"\" С исходными признаками \"\"\"\n",
    "    model = LinearRegression()\n",
    "    model.fit(features_train, target_train)\n",
    "    pred = model.predict(features_test)\n",
    "\n",
    "    R2_LR = r2_score(target_test, pred)\n",
    "    print(f'Коэфициенты:{model.coef_}')\n",
    "    print(f'R2 скор: {R2_LR}')\n",
    "    return R2_LR"
   ]
  },
  {
   "cell_type": "code",
   "execution_count": 11,
   "metadata": {},
   "outputs": [],
   "source": [
    "def scaled_LR(features_train, features_test, target_train, target_test):\n",
    "    \"\"\" С отмасштабированными признаками \"\"\"\n",
    "    new_pipeline = make_pipeline(StandardScaler(), LinearRegression(), verbose=True)\n",
    "    new_pipeline.fit(features_train, target_train)\n",
    "\n",
    "    R2_LR_data_scaled = r2_score(target_test, new_pipeline.predict(features_test))\n",
    "    print(f'\\nКоэфициенты: {new_pipeline[1].coef_}')\n",
    "    print(f'R2 скор: {R2_LR_data_scaled}')\n",
    "    return R2_LR_data_scaled"
   ]
  },
  {
   "cell_type": "markdown",
   "metadata": {},
   "source": [
    "Поделим признаки на test и train"
   ]
  },
  {
   "cell_type": "code",
   "execution_count": 12,
   "metadata": {},
   "outputs": [],
   "source": [
    "features = df.drop('Страховые выплаты',axis=1)\n",
    "target = df['Страховые выплаты']\n",
    "features_train, features_test, target_train, target_test = train_test_split(features, target, test_size=0.2, random_state=RND)\n",
    "n = len(features.columns)"
   ]
  },
  {
   "cell_type": "markdown",
   "metadata": {},
   "source": [
    "Проверю коэфициенты линейной регрессии. (Сделал это для себя)"
   ]
  },
  {
   "cell_type": "code",
   "execution_count": 13,
   "metadata": {},
   "outputs": [
    {
     "data": {
      "text/plain": [
       "array([ 1.55258954e-04,  3.54105016e-02, -9.45891944e-08, -1.41921742e-02])"
      ]
     },
     "metadata": {},
     "output_type": "display_data"
    },
    {
     "data": {
      "text/plain": [
       "array([ 1.55258954e-04,  3.54105016e-02, -9.45891944e-08, -1.41921742e-02])"
      ]
     },
     "execution_count": 13,
     "metadata": {},
     "output_type": "execute_result"
    }
   ],
   "source": [
    "X = np.concatenate((np.ones((features_train.shape[0], 1)), features_train), axis=1)\n",
    "y = target_train\n",
    "w = np.linalg.inv(X.T @ X) @ X.T @ y\n",
    "display(w[1:])\n",
    "\n",
    "model = LinearRegression()\n",
    "model.fit(features_train, target_train)\n",
    "model.coef_"
   ]
  },
  {
   "cell_type": "markdown",
   "metadata": {},
   "source": [
    "### 4.1 Исследуем качество модели без преобразования."
   ]
  },
  {
   "cell_type": "code",
   "execution_count": 14,
   "metadata": {},
   "outputs": [
    {
     "name": "stdout",
     "output_type": "stream",
     "text": [
      "Коэфициенты:[ 1.55258954e-04  3.54105016e-02 -9.45891944e-08 -1.41921742e-02]\n",
      "R2 скор: 0.43940259280549343\n"
     ]
    }
   ],
   "source": [
    "R2_LR_orig_data = default_LR(features_train, features_test, target_train, target_test)"
   ]
  },
  {
   "cell_type": "code",
   "execution_count": 15,
   "metadata": {},
   "outputs": [
    {
     "name": "stdout",
     "output_type": "stream",
     "text": [
      "[Pipeline] .... (step 1 of 2) Processing standardscaler, total=   0.0s\n",
      "[Pipeline] .. (step 2 of 2) Processing linearregression, total=   0.0s\n",
      "\n",
      "Коэфициенты: [ 7.76285065e-05  2.98618853e-01 -9.40882994e-04 -1.54680880e-02]\n",
      "R2 скор: 0.43940259280549565\n"
     ]
    }
   ],
   "source": [
    "R2_LR_orig_data_scaled = scaled_LR(features_train, features_test, target_train, target_test)"
   ]
  },
  {
   "cell_type": "markdown",
   "metadata": {},
   "source": [
    "### 4.2 Исследуем качество модели с преобразованием."
   ]
  },
  {
   "cell_type": "code",
   "execution_count": 16,
   "metadata": {},
   "outputs": [],
   "source": [
    "def crypter_features(features):\n",
    "    n = len(features.columns)\n",
    "    det = 0\n",
    "    \n",
    "    while det == 0:\n",
    "        np.random.seed(RND)\n",
    "        cipher_matrix = np.random.randint(1, 10, (n,n))\n",
    "        det = np.linalg.det(cipher_matrix)\n",
    "        crypted_features = (features @ cipher_matrix)\n",
    "        \n",
    "    return crypted_features, cipher_matrix"
   ]
  },
  {
   "cell_type": "code",
   "execution_count": 17,
   "metadata": {},
   "outputs": [
    {
     "data": {
      "text/html": [
       "<div>\n",
       "<style scoped>\n",
       "    .dataframe tbody tr th:only-of-type {\n",
       "        vertical-align: middle;\n",
       "    }\n",
       "\n",
       "    .dataframe tbody tr th {\n",
       "        vertical-align: top;\n",
       "    }\n",
       "\n",
       "    .dataframe thead th {\n",
       "        text-align: right;\n",
       "    }\n",
       "</style>\n",
       "<table border=\"1\" class=\"dataframe\">\n",
       "  <thead>\n",
       "    <tr style=\"text-align: right;\">\n",
       "      <th></th>\n",
       "      <th>Пол</th>\n",
       "      <th>Возраст</th>\n",
       "      <th>Зарплата</th>\n",
       "      <th>Члены семьи</th>\n",
       "    </tr>\n",
       "  </thead>\n",
       "  <tbody>\n",
       "    <tr>\n",
       "      <th>0</th>\n",
       "      <td>1</td>\n",
       "      <td>41.0</td>\n",
       "      <td>49600.0</td>\n",
       "      <td>1</td>\n",
       "    </tr>\n",
       "    <tr>\n",
       "      <th>1</th>\n",
       "      <td>0</td>\n",
       "      <td>46.0</td>\n",
       "      <td>38000.0</td>\n",
       "      <td>1</td>\n",
       "    </tr>\n",
       "    <tr>\n",
       "      <th>2</th>\n",
       "      <td>0</td>\n",
       "      <td>29.0</td>\n",
       "      <td>21000.0</td>\n",
       "      <td>0</td>\n",
       "    </tr>\n",
       "    <tr>\n",
       "      <th>3</th>\n",
       "      <td>0</td>\n",
       "      <td>21.0</td>\n",
       "      <td>41700.0</td>\n",
       "      <td>2</td>\n",
       "    </tr>\n",
       "    <tr>\n",
       "      <th>4</th>\n",
       "      <td>1</td>\n",
       "      <td>28.0</td>\n",
       "      <td>26100.0</td>\n",
       "      <td>0</td>\n",
       "    </tr>\n",
       "  </tbody>\n",
       "</table>\n",
       "</div>"
      ],
      "text/plain": [
       "   Пол  Возраст  Зарплата  Члены семьи\n",
       "0    1     41.0   49600.0            1\n",
       "1    0     46.0   38000.0            1\n",
       "2    0     29.0   21000.0            0\n",
       "3    0     21.0   41700.0            2\n",
       "4    1     28.0   26100.0            0"
      ]
     },
     "metadata": {},
     "output_type": "display_data"
    },
    {
     "data": {
      "text/html": [
       "<div>\n",
       "<style scoped>\n",
       "    .dataframe tbody tr th:only-of-type {\n",
       "        vertical-align: middle;\n",
       "    }\n",
       "\n",
       "    .dataframe tbody tr th {\n",
       "        vertical-align: top;\n",
       "    }\n",
       "\n",
       "    .dataframe thead th {\n",
       "        text-align: right;\n",
       "    }\n",
       "</style>\n",
       "<table border=\"1\" class=\"dataframe\">\n",
       "  <thead>\n",
       "    <tr style=\"text-align: right;\">\n",
       "      <th></th>\n",
       "      <th>0</th>\n",
       "      <th>1</th>\n",
       "      <th>2</th>\n",
       "      <th>3</th>\n",
       "    </tr>\n",
       "  </thead>\n",
       "  <tbody>\n",
       "    <tr>\n",
       "      <th>0</th>\n",
       "      <td>148977.0</td>\n",
       "      <td>49937.0</td>\n",
       "      <td>446742.0</td>\n",
       "      <td>149016.0</td>\n",
       "    </tr>\n",
       "    <tr>\n",
       "      <th>1</th>\n",
       "      <td>114190.0</td>\n",
       "      <td>38370.0</td>\n",
       "      <td>342374.0</td>\n",
       "      <td>114235.0</td>\n",
       "    </tr>\n",
       "    <tr>\n",
       "      <th>2</th>\n",
       "      <td>63116.0</td>\n",
       "      <td>21232.0</td>\n",
       "      <td>189232.0</td>\n",
       "      <td>63145.0</td>\n",
       "    </tr>\n",
       "    <tr>\n",
       "      <th>3</th>\n",
       "      <td>125196.0</td>\n",
       "      <td>41872.0</td>\n",
       "      <td>375480.0</td>\n",
       "      <td>125215.0</td>\n",
       "    </tr>\n",
       "    <tr>\n",
       "      <th>4</th>\n",
       "      <td>78419.0</td>\n",
       "      <td>26331.0</td>\n",
       "      <td>235132.0</td>\n",
       "      <td>78446.0</td>\n",
       "    </tr>\n",
       "  </tbody>\n",
       "</table>\n",
       "</div>"
      ],
      "text/plain": [
       "          0        1         2         3\n",
       "0  148977.0  49937.0  446742.0  149016.0\n",
       "1  114190.0  38370.0  342374.0  114235.0\n",
       "2   63116.0  21232.0  189232.0   63145.0\n",
       "3  125196.0  41872.0  375480.0  125215.0\n",
       "4   78419.0  26331.0  235132.0   78446.0"
      ]
     },
     "metadata": {},
     "output_type": "display_data"
    },
    {
     "name": "stdout",
     "output_type": "stream",
     "text": [
      "Матрица Y:\n",
      " [[7 7 8 6]\n",
      " [4 8 8 5]\n",
      " [3 1 9 3]\n",
      " [6 2 6 5]]\n"
     ]
    }
   ],
   "source": [
    "display(features.head())\n",
    "features, cipher_matrix = crypter_features(features)\n",
    "display(features.head())\n",
    "print(f'Матрица Y:\\n {cipher_matrix}')\n",
    "\n",
    "features_train, features_test, target_train, target_test = train_test_split(features, target, test_size=0.2, random_state=RND)"
   ]
  },
  {
   "cell_type": "code",
   "execution_count": 18,
   "metadata": {},
   "outputs": [
    {
     "name": "stdout",
     "output_type": "stream",
     "text": [
      "Коэфициенты:[-1.56593995e-02  3.06383518e-03 -4.95671729e-05  1.47867911e-02]\n",
      "R2 скор: 0.4394025928055142\n"
     ]
    }
   ],
   "source": [
    "R2_LR_cipher_data = default_LR(features_train, features_test, target_train, target_test)"
   ]
  },
  {
   "cell_type": "code",
   "execution_count": 19,
   "metadata": {},
   "outputs": [
    {
     "name": "stdout",
     "output_type": "stream",
     "text": [
      "[Pipeline] .... (step 1 of 2) Processing standardscaler, total=   0.0s\n",
      "[Pipeline] .. (step 2 of 2) Processing linearregression, total=   0.0s\n",
      "\n",
      "Коэфициенты: [-467.27966848   30.47201031   -4.43733843  441.23862386]\n",
      "R2 скор: 0.4394025928054982\n"
     ]
    }
   ],
   "source": [
    "R2_LR_cipher_data_scaled = scaled_LR(features_train, features_test, target_train, target_test)"
   ]
  },
  {
   "cell_type": "markdown",
   "metadata": {},
   "source": [
    "### 4.3 Результат моделей"
   ]
  },
  {
   "cell_type": "code",
   "execution_count": 20,
   "metadata": {},
   "outputs": [
    {
     "data": {
      "text/html": [
       "<div>\n",
       "<style scoped>\n",
       "    .dataframe tbody tr th:only-of-type {\n",
       "        vertical-align: middle;\n",
       "    }\n",
       "\n",
       "    .dataframe tbody tr th {\n",
       "        vertical-align: top;\n",
       "    }\n",
       "\n",
       "    .dataframe thead th {\n",
       "        text-align: right;\n",
       "    }\n",
       "</style>\n",
       "<table border=\"1\" class=\"dataframe\">\n",
       "  <thead>\n",
       "    <tr style=\"text-align: right;\">\n",
       "      <th></th>\n",
       "      <th>R2_score</th>\n",
       "    </tr>\n",
       "  </thead>\n",
       "  <tbody>\n",
       "    <tr>\n",
       "      <th>Линейная регрессия</th>\n",
       "      <td>0.439403</td>\n",
       "    </tr>\n",
       "    <tr>\n",
       "      <th>Линейная регрессия c масштабом</th>\n",
       "      <td>0.439403</td>\n",
       "    </tr>\n",
       "    <tr>\n",
       "      <th>Линейная регрессия на преобразованных признаках</th>\n",
       "      <td>0.439403</td>\n",
       "    </tr>\n",
       "    <tr>\n",
       "      <th>Линейная регрессия на преобразованных признаках c масштабом</th>\n",
       "      <td>0.439403</td>\n",
       "    </tr>\n",
       "  </tbody>\n",
       "</table>\n",
       "</div>"
      ],
      "text/plain": [
       "                                                    R2_score\n",
       "Линейная регрессия                                  0.439403\n",
       "Линейная регрессия c масштабом                      0.439403\n",
       "Линейная регрессия на преобразованных признаках     0.439403\n",
       "Линейная регрессия на преобразованных признаках...  0.439403"
      ]
     },
     "metadata": {},
     "output_type": "display_data"
    }
   ],
   "source": [
    "R2_list = [\n",
    "    R2_LR_orig_data,\n",
    "    R2_LR_orig_data_scaled,\n",
    "    R2_LR_cipher_data,\n",
    "    R2_LR_cipher_data_scaled,\n",
    "]\n",
    "\n",
    "names_R2_list =[\n",
    "    'Линейная регрессия',\n",
    "    'Линейная регрессия c масштабом',\n",
    "    'Линейная регрессия на преобразованных признаках',\n",
    "    'Линейная регрессия на преобразованных признаках c масштабом',\n",
    "]\n",
    "\n",
    "result = pd.DataFrame(\n",
    "    data=R2_list, \n",
    "    columns=['R2_score'], \n",
    "    index=names_R2_list,\n",
    ")\n",
    "\n",
    "display(result)"
   ]
  },
  {
   "cell_type": "markdown",
   "metadata": {},
   "source": [
    "Колебания 14 знака и дальше после запятой связаны с точностью хранения дробных чисел в python 3."
   ]
  },
  {
   "cell_type": "markdown",
   "metadata": {},
   "source": [
    "***\n",
    "## Итоговый вывод\n",
    "В ходе работы было проделано:"
   ]
  },
  {
   "cell_type": "markdown",
   "metadata": {},
   "source": [
    "* Загружены и изучены данные.\n",
    "* Качество линейной регресии **не изменилось** от использования исходной матрицы, умноженную на **строго обратимую**.\n",
    "* Создан алгоритм преобразования данных.\n",
    "* Исследован алгоритм преобразования данных и проверена метрика `R2` для данных без преобразования и с ним.\n",
    "\n",
    "По результатам работы использования матричных операций можно увидеть, что имея правильную матрицу, данные очень просто зашифровать от распознования."
   ]
  }
 ],
 "metadata": {
  "ExecuteTimeLog": [
   {
    "duration": 453,
    "start_time": "2022-06-13T07:35:07.912Z"
   },
   {
    "duration": 83,
    "start_time": "2022-06-13T07:35:31.745Z"
   },
   {
    "duration": 23,
    "start_time": "2022-06-13T07:35:36.065Z"
   },
   {
    "duration": 9,
    "start_time": "2022-06-13T07:35:57.524Z"
   },
   {
    "duration": 25,
    "start_time": "2022-06-13T07:36:08.991Z"
   },
   {
    "duration": 24,
    "start_time": "2022-06-13T07:36:47.736Z"
   },
   {
    "duration": 47,
    "start_time": "2022-06-13T07:36:50.993Z"
   },
   {
    "duration": 3,
    "start_time": "2022-06-13T07:39:00.029Z"
   },
   {
    "duration": 82,
    "start_time": "2022-06-13T07:39:00.299Z"
   },
   {
    "duration": 3,
    "start_time": "2022-06-13T07:39:08.459Z"
   },
   {
    "duration": 3,
    "start_time": "2022-06-13T07:39:32.716Z"
   },
   {
    "duration": 26,
    "start_time": "2022-06-13T07:39:33.979Z"
   },
   {
    "duration": 3,
    "start_time": "2022-06-13T07:39:51.706Z"
   },
   {
    "duration": 25,
    "start_time": "2022-06-13T07:39:52.698Z"
   },
   {
    "duration": 5,
    "start_time": "2022-06-13T07:39:55.762Z"
   },
   {
    "duration": 24,
    "start_time": "2022-06-13T07:39:55.946Z"
   },
   {
    "duration": 3,
    "start_time": "2022-06-13T07:41:19.368Z"
   },
   {
    "duration": 36,
    "start_time": "2022-06-13T07:41:19.744Z"
   },
   {
    "duration": 3,
    "start_time": "2022-06-13T07:41:48.241Z"
   },
   {
    "duration": 33,
    "start_time": "2022-06-13T07:41:50.504Z"
   },
   {
    "duration": 3,
    "start_time": "2022-06-13T07:42:14.719Z"
   },
   {
    "duration": 39,
    "start_time": "2022-06-13T07:42:14.887Z"
   },
   {
    "duration": 3,
    "start_time": "2022-06-13T07:42:26.327Z"
   },
   {
    "duration": 38,
    "start_time": "2022-06-13T07:42:26.623Z"
   },
   {
    "duration": 4,
    "start_time": "2022-06-13T07:42:42.334Z"
   },
   {
    "duration": 42,
    "start_time": "2022-06-13T07:42:42.495Z"
   },
   {
    "duration": 4,
    "start_time": "2022-06-13T07:42:59.836Z"
   },
   {
    "duration": 39,
    "start_time": "2022-06-13T07:43:00.695Z"
   },
   {
    "duration": 46,
    "start_time": "2022-06-13T15:38:35.506Z"
   },
   {
    "duration": 7,
    "start_time": "2022-06-13T15:38:39.691Z"
   },
   {
    "duration": 756,
    "start_time": "2022-06-13T15:39:08.031Z"
   },
   {
    "duration": 76,
    "start_time": "2022-06-13T15:39:10.073Z"
   },
   {
    "duration": 3,
    "start_time": "2022-06-13T15:39:10.441Z"
   },
   {
    "duration": 41,
    "start_time": "2022-06-13T15:39:10.883Z"
   },
   {
    "duration": 157,
    "start_time": "2022-06-13T15:39:12.529Z"
   },
   {
    "duration": 512,
    "start_time": "2022-06-13T15:39:28.725Z"
   },
   {
    "duration": 27,
    "start_time": "2022-06-13T15:39:29.295Z"
   },
   {
    "duration": 3,
    "start_time": "2022-06-13T15:39:29.615Z"
   },
   {
    "duration": 37,
    "start_time": "2022-06-13T15:39:29.825Z"
   },
   {
    "duration": 688,
    "start_time": "2022-06-13T15:39:30.295Z"
   },
   {
    "duration": 344,
    "start_time": "2022-06-13T15:40:14.240Z"
   },
   {
    "duration": 1426,
    "start_time": "2022-06-13T15:41:47.350Z"
   },
   {
    "duration": 1268,
    "start_time": "2022-06-13T15:42:46.923Z"
   },
   {
    "duration": 1451,
    "start_time": "2022-06-13T15:43:02.427Z"
   },
   {
    "duration": 1387,
    "start_time": "2022-06-13T15:43:49.804Z"
   },
   {
    "duration": 423,
    "start_time": "2022-06-13T15:44:36.144Z"
   },
   {
    "duration": 950,
    "start_time": "2022-06-13T15:44:39.369Z"
   },
   {
    "duration": 424,
    "start_time": "2022-06-13T15:48:00.554Z"
   },
   {
    "duration": 372,
    "start_time": "2022-06-13T15:48:56.344Z"
   },
   {
    "duration": 469,
    "start_time": "2022-06-13T15:48:59.921Z"
   },
   {
    "duration": 377,
    "start_time": "2022-06-13T15:49:21.455Z"
   },
   {
    "duration": 372,
    "start_time": "2022-06-13T15:50:13.253Z"
   },
   {
    "duration": 353,
    "start_time": "2022-06-13T15:50:25.767Z"
   },
   {
    "duration": 2,
    "start_time": "2022-06-13T15:52:11.883Z"
   },
   {
    "duration": 21,
    "start_time": "2022-06-13T15:53:53.882Z"
   },
   {
    "duration": 1363,
    "start_time": "2022-06-14T07:25:54.175Z"
   },
   {
    "duration": 1117,
    "start_time": "2022-06-14T07:26:00.404Z"
   },
   {
    "duration": 97,
    "start_time": "2022-06-14T07:26:01.523Z"
   },
   {
    "duration": 3,
    "start_time": "2022-06-14T07:26:01.622Z"
   },
   {
    "duration": 105,
    "start_time": "2022-06-14T07:26:01.627Z"
   },
   {
    "duration": 446,
    "start_time": "2022-06-14T07:26:01.734Z"
   },
   {
    "duration": 1203,
    "start_time": "2022-06-14T07:26:02.182Z"
   },
   {
    "duration": 370,
    "start_time": "2022-06-14T07:26:03.387Z"
   },
   {
    "duration": 1209,
    "start_time": "2022-06-14T07:35:36.652Z"
   },
   {
    "duration": 1205,
    "start_time": "2022-06-14T07:35:45.044Z"
   },
   {
    "duration": 1146,
    "start_time": "2022-06-14T07:35:53.082Z"
   },
   {
    "duration": 227,
    "start_time": "2022-06-14T07:36:05.784Z"
   },
   {
    "duration": 1021,
    "start_time": "2022-06-14T07:36:10.272Z"
   },
   {
    "duration": 1298,
    "start_time": "2022-06-14T07:36:27.187Z"
   },
   {
    "duration": 11,
    "start_time": "2022-06-14T10:40:46.200Z"
   },
   {
    "duration": 17,
    "start_time": "2022-06-14T10:40:48.059Z"
   },
   {
    "duration": 4,
    "start_time": "2022-06-14T10:40:59.201Z"
   },
   {
    "duration": 9,
    "start_time": "2022-06-14T10:41:00.242Z"
   },
   {
    "duration": 1087,
    "start_time": "2022-06-14T10:41:08.919Z"
   },
   {
    "duration": 28,
    "start_time": "2022-06-14T10:41:10.008Z"
   },
   {
    "duration": 4,
    "start_time": "2022-06-14T10:41:10.038Z"
   },
   {
    "duration": 57,
    "start_time": "2022-06-14T10:41:10.044Z"
   },
   {
    "duration": 387,
    "start_time": "2022-06-14T10:41:10.104Z"
   },
   {
    "duration": 1123,
    "start_time": "2022-06-14T10:41:10.492Z"
   },
   {
    "duration": 419,
    "start_time": "2022-06-14T10:41:11.617Z"
   },
   {
    "duration": 4,
    "start_time": "2022-06-14T10:41:12.037Z"
   },
   {
    "duration": 161,
    "start_time": "2022-06-14T10:41:12.043Z"
   },
   {
    "duration": 3,
    "start_time": "2022-06-14T10:41:20.939Z"
   },
   {
    "duration": 1098,
    "start_time": "2022-06-14T10:41:26.239Z"
   },
   {
    "duration": 63,
    "start_time": "2022-06-14T10:41:27.340Z"
   },
   {
    "duration": 3,
    "start_time": "2022-06-14T10:41:27.405Z"
   },
   {
    "duration": 71,
    "start_time": "2022-06-14T10:41:27.410Z"
   },
   {
    "duration": 435,
    "start_time": "2022-06-14T10:41:27.485Z"
   },
   {
    "duration": 1118,
    "start_time": "2022-06-14T10:41:27.921Z"
   },
   {
    "duration": 423,
    "start_time": "2022-06-14T10:41:29.041Z"
   },
   {
    "duration": 5,
    "start_time": "2022-06-14T10:41:29.465Z"
   },
   {
    "duration": 267,
    "start_time": "2022-06-14T10:41:29.472Z"
   },
   {
    "duration": 219,
    "start_time": "2022-06-14T10:41:52.378Z"
   },
   {
    "duration": 15,
    "start_time": "2022-06-14T10:41:57.897Z"
   },
   {
    "duration": 4,
    "start_time": "2022-06-14T10:42:04.340Z"
   },
   {
    "duration": 3,
    "start_time": "2022-06-14T10:42:08.947Z"
   },
   {
    "duration": 5,
    "start_time": "2022-06-14T10:42:21.729Z"
   },
   {
    "duration": 14,
    "start_time": "2022-06-14T10:42:33.850Z"
   },
   {
    "duration": 5,
    "start_time": "2022-06-14T10:42:43.683Z"
   },
   {
    "duration": 6,
    "start_time": "2022-06-14T10:42:57.307Z"
   },
   {
    "duration": 12,
    "start_time": "2022-06-14T10:43:25.981Z"
   },
   {
    "duration": 53,
    "start_time": "2022-06-16T07:51:04.160Z"
   },
   {
    "duration": 1655,
    "start_time": "2022-06-16T07:51:12.134Z"
   },
   {
    "duration": 105,
    "start_time": "2022-06-16T07:51:13.792Z"
   },
   {
    "duration": 4,
    "start_time": "2022-06-16T07:51:13.899Z"
   },
   {
    "duration": 49,
    "start_time": "2022-06-16T07:51:13.906Z"
   },
   {
    "duration": 431,
    "start_time": "2022-06-16T07:51:13.957Z"
   },
   {
    "duration": 1177,
    "start_time": "2022-06-16T07:51:14.390Z"
   },
   {
    "duration": 493,
    "start_time": "2022-06-16T07:51:15.569Z"
   },
   {
    "duration": 5,
    "start_time": "2022-06-16T07:51:16.064Z"
   },
   {
    "duration": 89,
    "start_time": "2022-06-16T07:51:53.273Z"
   },
   {
    "duration": 73,
    "start_time": "2022-06-16T07:53:02.504Z"
   },
   {
    "duration": 17,
    "start_time": "2022-06-16T07:53:08.740Z"
   },
   {
    "duration": 6,
    "start_time": "2022-06-16T08:01:13.588Z"
   },
   {
    "duration": 5,
    "start_time": "2022-06-16T08:01:17.305Z"
   },
   {
    "duration": 126,
    "start_time": "2022-06-16T08:09:03.398Z"
   },
   {
    "duration": 10,
    "start_time": "2022-06-16T08:09:42.507Z"
   },
   {
    "duration": 10,
    "start_time": "2022-06-16T08:09:51.170Z"
   },
   {
    "duration": 10,
    "start_time": "2022-06-16T08:10:01.490Z"
   },
   {
    "duration": 6,
    "start_time": "2022-06-16T08:10:05.219Z"
   },
   {
    "duration": 10,
    "start_time": "2022-06-16T08:11:32.832Z"
   },
   {
    "duration": 4,
    "start_time": "2022-06-16T08:11:40.681Z"
   },
   {
    "duration": 5,
    "start_time": "2022-06-16T08:12:11.581Z"
   },
   {
    "duration": 5,
    "start_time": "2022-06-16T08:12:14.055Z"
   },
   {
    "duration": 4,
    "start_time": "2022-06-16T08:12:16.750Z"
   },
   {
    "duration": 5,
    "start_time": "2022-06-16T08:12:18.271Z"
   },
   {
    "duration": 5,
    "start_time": "2022-06-16T08:12:19.942Z"
   },
   {
    "duration": 6,
    "start_time": "2022-06-16T08:12:21.878Z"
   },
   {
    "duration": 38,
    "start_time": "2022-06-16T08:13:21.205Z"
   },
   {
    "duration": 77932,
    "start_time": "2022-06-16T08:13:32.835Z"
   },
   {
    "duration": 14133,
    "start_time": "2022-06-16T08:15:39.199Z"
   },
   {
    "duration": 4,
    "start_time": "2022-06-16T08:15:57.752Z"
   },
   {
    "duration": 26365,
    "start_time": "2022-06-16T08:16:09.623Z"
   },
   {
    "duration": 7,
    "start_time": "2022-06-16T08:16:50.248Z"
   },
   {
    "duration": 5,
    "start_time": "2022-06-16T08:17:57.934Z"
   },
   {
    "duration": 8,
    "start_time": "2022-06-16T08:18:10.749Z"
   },
   {
    "duration": 6,
    "start_time": "2022-06-16T08:18:16.108Z"
   },
   {
    "duration": 10,
    "start_time": "2022-06-16T08:20:28.727Z"
   },
   {
    "duration": 7,
    "start_time": "2022-06-16T08:20:33.527Z"
   },
   {
    "duration": 10,
    "start_time": "2022-06-16T08:20:43.799Z"
   },
   {
    "duration": 5,
    "start_time": "2022-06-16T08:21:37.662Z"
   },
   {
    "duration": 4,
    "start_time": "2022-06-16T08:21:40.534Z"
   },
   {
    "duration": 6,
    "start_time": "2022-06-16T08:21:49.877Z"
   },
   {
    "duration": 9,
    "start_time": "2022-06-16T08:22:32.006Z"
   },
   {
    "duration": 5,
    "start_time": "2022-06-16T08:22:33.901Z"
   },
   {
    "duration": 5,
    "start_time": "2022-06-16T08:29:45.041Z"
   },
   {
    "duration": 4,
    "start_time": "2022-06-16T08:29:51.488Z"
   },
   {
    "duration": 5,
    "start_time": "2022-06-16T08:31:04.999Z"
   },
   {
    "duration": 18,
    "start_time": "2022-06-16T08:31:13.230Z"
   },
   {
    "duration": 7,
    "start_time": "2022-06-16T08:31:13.940Z"
   },
   {
    "duration": 48,
    "start_time": "2022-06-16T10:43:37.712Z"
   },
   {
    "duration": 17,
    "start_time": "2022-06-16T10:44:17.782Z"
   },
   {
    "duration": 4,
    "start_time": "2022-06-16T10:44:42.910Z"
   },
   {
    "duration": 9,
    "start_time": "2022-06-16T10:45:05.845Z"
   },
   {
    "duration": 17,
    "start_time": "2022-06-16T10:49:12.351Z"
   },
   {
    "duration": 4,
    "start_time": "2022-06-16T10:50:19.747Z"
   },
   {
    "duration": 27,
    "start_time": "2022-06-16T10:50:23.956Z"
   },
   {
    "duration": 10,
    "start_time": "2022-06-16T11:05:26.482Z"
   },
   {
    "duration": 10,
    "start_time": "2022-06-16T11:05:46.146Z"
   },
   {
    "duration": 6,
    "start_time": "2022-06-16T11:06:55.354Z"
   },
   {
    "duration": 13,
    "start_time": "2022-06-16T11:07:21.143Z"
   },
   {
    "duration": 5,
    "start_time": "2022-06-16T11:07:46.779Z"
   },
   {
    "duration": 26,
    "start_time": "2022-06-16T11:07:51.913Z"
   },
   {
    "duration": 14,
    "start_time": "2022-06-16T11:10:23.698Z"
   },
   {
    "duration": 20,
    "start_time": "2022-06-16T11:10:41.250Z"
   },
   {
    "duration": 14,
    "start_time": "2022-06-16T11:10:49.658Z"
   },
   {
    "duration": 20,
    "start_time": "2022-06-16T11:11:51.507Z"
   },
   {
    "duration": 13,
    "start_time": "2022-06-16T11:12:03.583Z"
   },
   {
    "duration": 13,
    "start_time": "2022-06-16T11:12:52.980Z"
   },
   {
    "duration": 34,
    "start_time": "2022-06-16T11:13:43.892Z"
   },
   {
    "duration": 13,
    "start_time": "2022-06-16T11:13:50.487Z"
   },
   {
    "duration": 8,
    "start_time": "2022-06-16T11:14:27.003Z"
   },
   {
    "duration": 7,
    "start_time": "2022-06-16T11:15:12.707Z"
   },
   {
    "duration": 216,
    "start_time": "2022-06-16T14:04:28.255Z"
   },
   {
    "duration": 241,
    "start_time": "2022-06-16T14:04:48.297Z"
   },
   {
    "duration": 1494,
    "start_time": "2022-06-16T14:05:07.673Z"
   },
   {
    "duration": 91,
    "start_time": "2022-06-16T14:05:09.172Z"
   },
   {
    "duration": 9,
    "start_time": "2022-06-16T14:05:09.273Z"
   },
   {
    "duration": 47,
    "start_time": "2022-06-16T14:05:09.286Z"
   },
   {
    "duration": 481,
    "start_time": "2022-06-16T14:05:09.335Z"
   },
   {
    "duration": 1349,
    "start_time": "2022-06-16T14:05:09.818Z"
   },
   {
    "duration": 455,
    "start_time": "2022-06-16T14:05:11.171Z"
   },
   {
    "duration": 160,
    "start_time": "2022-06-16T14:05:11.628Z"
   },
   {
    "duration": 0,
    "start_time": "2022-06-16T14:05:11.791Z"
   },
   {
    "duration": 0,
    "start_time": "2022-06-16T14:05:11.792Z"
   },
   {
    "duration": 0,
    "start_time": "2022-06-16T14:05:11.794Z"
   },
   {
    "duration": 0,
    "start_time": "2022-06-16T14:05:11.795Z"
   },
   {
    "duration": 0,
    "start_time": "2022-06-16T14:05:11.796Z"
   },
   {
    "duration": 13,
    "start_time": "2022-06-16T14:05:35.058Z"
   },
   {
    "duration": 1668,
    "start_time": "2022-06-16T14:05:41.187Z"
   },
   {
    "duration": 53,
    "start_time": "2022-06-16T14:05:42.859Z"
   },
   {
    "duration": 5,
    "start_time": "2022-06-16T14:05:42.914Z"
   },
   {
    "duration": 72,
    "start_time": "2022-06-16T14:05:42.921Z"
   },
   {
    "duration": 536,
    "start_time": "2022-06-16T14:05:42.997Z"
   },
   {
    "duration": 1359,
    "start_time": "2022-06-16T14:05:43.535Z"
   },
   {
    "duration": 429,
    "start_time": "2022-06-16T14:05:44.899Z"
   },
   {
    "duration": 6,
    "start_time": "2022-06-16T14:05:45.330Z"
   },
   {
    "duration": 56,
    "start_time": "2022-06-16T14:05:45.338Z"
   },
   {
    "duration": 9,
    "start_time": "2022-06-16T14:05:45.396Z"
   },
   {
    "duration": 279,
    "start_time": "2022-06-16T14:05:45.407Z"
   },
   {
    "duration": 0,
    "start_time": "2022-06-16T14:05:45.688Z"
   },
   {
    "duration": 0,
    "start_time": "2022-06-16T14:05:45.690Z"
   },
   {
    "duration": 32,
    "start_time": "2022-06-16T14:06:07.359Z"
   },
   {
    "duration": 14,
    "start_time": "2022-06-16T14:06:09.767Z"
   },
   {
    "duration": 14,
    "start_time": "2022-06-16T14:06:10.092Z"
   },
   {
    "duration": 3,
    "start_time": "2022-06-16T14:10:43.188Z"
   },
   {
    "duration": 4,
    "start_time": "2022-06-16T14:22:38.305Z"
   },
   {
    "duration": 19,
    "start_time": "2022-06-16T14:22:54.949Z"
   },
   {
    "duration": 21,
    "start_time": "2022-06-16T14:23:16.000Z"
   },
   {
    "duration": 5,
    "start_time": "2022-06-16T14:24:57.291Z"
   },
   {
    "duration": 25,
    "start_time": "2022-06-16T14:24:57.475Z"
   },
   {
    "duration": 23,
    "start_time": "2022-06-16T14:25:36.767Z"
   },
   {
    "duration": 33,
    "start_time": "2022-06-16T14:25:44.451Z"
   },
   {
    "duration": 7,
    "start_time": "2022-06-16T14:26:51.946Z"
   },
   {
    "duration": 22,
    "start_time": "2022-06-16T14:26:52.376Z"
   },
   {
    "duration": 26,
    "start_time": "2022-06-16T14:27:00.914Z"
   },
   {
    "duration": 6,
    "start_time": "2022-06-16T14:27:04.209Z"
   },
   {
    "duration": 23,
    "start_time": "2022-06-16T14:27:04.848Z"
   },
   {
    "duration": 1443,
    "start_time": "2022-06-16T14:27:13.951Z"
   },
   {
    "duration": 28,
    "start_time": "2022-06-16T14:27:15.399Z"
   },
   {
    "duration": 5,
    "start_time": "2022-06-16T14:27:15.429Z"
   },
   {
    "duration": 64,
    "start_time": "2022-06-16T14:27:15.436Z"
   },
   {
    "duration": 448,
    "start_time": "2022-06-16T14:27:15.503Z"
   },
   {
    "duration": 1313,
    "start_time": "2022-06-16T14:27:15.953Z"
   },
   {
    "duration": 425,
    "start_time": "2022-06-16T14:27:17.270Z"
   },
   {
    "duration": 7,
    "start_time": "2022-06-16T14:27:17.697Z"
   },
   {
    "duration": 7,
    "start_time": "2022-06-16T14:27:17.706Z"
   },
   {
    "duration": 12,
    "start_time": "2022-06-16T14:27:17.715Z"
   },
   {
    "duration": 135,
    "start_time": "2022-06-16T14:27:17.729Z"
   },
   {
    "duration": 101,
    "start_time": "2022-06-16T14:27:17.869Z"
   },
   {
    "duration": 27,
    "start_time": "2022-06-16T14:27:17.971Z"
   },
   {
    "duration": 5,
    "start_time": "2022-06-16T14:27:18.002Z"
   },
   {
    "duration": 24,
    "start_time": "2022-06-16T14:27:18.009Z"
   },
   {
    "duration": 23,
    "start_time": "2022-06-16T14:27:48.721Z"
   },
   {
    "duration": 20,
    "start_time": "2022-06-16T14:28:30.486Z"
   },
   {
    "duration": 1473,
    "start_time": "2022-06-16T14:28:43.280Z"
   },
   {
    "duration": 34,
    "start_time": "2022-06-16T14:28:44.756Z"
   },
   {
    "duration": 4,
    "start_time": "2022-06-16T14:28:44.792Z"
   },
   {
    "duration": 52,
    "start_time": "2022-06-16T14:28:44.798Z"
   },
   {
    "duration": 449,
    "start_time": "2022-06-16T14:28:44.854Z"
   },
   {
    "duration": 1292,
    "start_time": "2022-06-16T14:28:45.305Z"
   },
   {
    "duration": 417,
    "start_time": "2022-06-16T14:28:46.598Z"
   },
   {
    "duration": 7,
    "start_time": "2022-06-16T14:28:47.018Z"
   },
   {
    "duration": 29,
    "start_time": "2022-06-16T14:28:47.027Z"
   },
   {
    "duration": 55,
    "start_time": "2022-06-16T14:28:47.058Z"
   },
   {
    "duration": 35,
    "start_time": "2022-06-16T14:28:47.115Z"
   },
   {
    "duration": 115,
    "start_time": "2022-06-16T14:28:47.160Z"
   },
   {
    "duration": 20,
    "start_time": "2022-06-16T14:28:47.276Z"
   },
   {
    "duration": 17,
    "start_time": "2022-06-16T14:28:47.300Z"
   },
   {
    "duration": 52,
    "start_time": "2022-06-16T14:28:47.318Z"
   },
   {
    "duration": 26,
    "start_time": "2022-06-16T14:28:57.082Z"
   },
   {
    "duration": 1405,
    "start_time": "2022-06-16T14:29:13.078Z"
   },
   {
    "duration": 28,
    "start_time": "2022-06-16T14:29:14.486Z"
   },
   {
    "duration": 4,
    "start_time": "2022-06-16T14:29:14.516Z"
   },
   {
    "duration": 60,
    "start_time": "2022-06-16T14:29:14.521Z"
   },
   {
    "duration": 480,
    "start_time": "2022-06-16T14:29:14.584Z"
   },
   {
    "duration": 1327,
    "start_time": "2022-06-16T14:29:15.070Z"
   },
   {
    "duration": 445,
    "start_time": "2022-06-16T14:29:16.399Z"
   },
   {
    "duration": 8,
    "start_time": "2022-06-16T14:29:16.847Z"
   },
   {
    "duration": 35,
    "start_time": "2022-06-16T14:29:16.858Z"
   },
   {
    "duration": 9,
    "start_time": "2022-06-16T14:29:16.895Z"
   },
   {
    "duration": 60,
    "start_time": "2022-06-16T14:29:16.906Z"
   },
   {
    "duration": 96,
    "start_time": "2022-06-16T14:29:16.971Z"
   },
   {
    "duration": 25,
    "start_time": "2022-06-16T14:29:17.073Z"
   },
   {
    "duration": 6,
    "start_time": "2022-06-16T14:29:17.102Z"
   },
   {
    "duration": 54,
    "start_time": "2022-06-16T14:29:17.110Z"
   },
   {
    "duration": 7,
    "start_time": "2022-06-16T14:33:26.493Z"
   },
   {
    "duration": 6,
    "start_time": "2022-06-16T14:33:26.683Z"
   },
   {
    "duration": 12,
    "start_time": "2022-06-16T14:35:32.946Z"
   },
   {
    "duration": 22,
    "start_time": "2022-06-16T14:36:59.487Z"
   },
   {
    "duration": 1475,
    "start_time": "2022-06-16T14:37:09.489Z"
   },
   {
    "duration": 41,
    "start_time": "2022-06-16T14:37:10.972Z"
   },
   {
    "duration": 3,
    "start_time": "2022-06-16T14:37:11.015Z"
   },
   {
    "duration": 70,
    "start_time": "2022-06-16T14:37:11.020Z"
   },
   {
    "duration": 476,
    "start_time": "2022-06-16T14:37:11.098Z"
   },
   {
    "duration": 1495,
    "start_time": "2022-06-16T14:37:11.577Z"
   },
   {
    "duration": 422,
    "start_time": "2022-06-16T14:37:13.074Z"
   },
   {
    "duration": 7,
    "start_time": "2022-06-16T14:37:13.499Z"
   },
   {
    "duration": 7,
    "start_time": "2022-06-16T14:37:13.508Z"
   },
   {
    "duration": 9,
    "start_time": "2022-06-16T14:37:13.517Z"
   },
   {
    "duration": 10,
    "start_time": "2022-06-16T14:37:13.528Z"
   },
   {
    "duration": 10,
    "start_time": "2022-06-16T14:37:13.565Z"
   },
   {
    "duration": 83,
    "start_time": "2022-06-16T14:37:13.581Z"
   },
   {
    "duration": 277,
    "start_time": "2022-06-16T14:37:13.667Z"
   },
   {
    "duration": 0,
    "start_time": "2022-06-16T14:37:13.946Z"
   },
   {
    "duration": 0,
    "start_time": "2022-06-16T14:37:13.947Z"
   },
   {
    "duration": 0,
    "start_time": "2022-06-16T14:37:13.948Z"
   },
   {
    "duration": 0,
    "start_time": "2022-06-16T14:37:13.949Z"
   },
   {
    "duration": 0,
    "start_time": "2022-06-16T14:37:13.951Z"
   },
   {
    "duration": 1458,
    "start_time": "2022-06-16T14:38:19.387Z"
   },
   {
    "duration": 51,
    "start_time": "2022-06-16T14:38:20.850Z"
   },
   {
    "duration": 19,
    "start_time": "2022-06-16T14:38:20.903Z"
   },
   {
    "duration": 69,
    "start_time": "2022-06-16T14:38:20.925Z"
   },
   {
    "duration": 654,
    "start_time": "2022-06-16T14:38:21.000Z"
   },
   {
    "duration": 1453,
    "start_time": "2022-06-16T14:38:21.662Z"
   },
   {
    "duration": 489,
    "start_time": "2022-06-16T14:38:23.117Z"
   },
   {
    "duration": 6,
    "start_time": "2022-06-16T14:38:23.608Z"
   },
   {
    "duration": 6,
    "start_time": "2022-06-16T14:38:23.616Z"
   },
   {
    "duration": 5,
    "start_time": "2022-06-16T14:38:23.624Z"
   },
   {
    "duration": 33,
    "start_time": "2022-06-16T14:38:23.631Z"
   },
   {
    "duration": 57,
    "start_time": "2022-06-16T14:38:23.666Z"
   },
   {
    "duration": 40,
    "start_time": "2022-06-16T14:38:23.727Z"
   },
   {
    "duration": 106,
    "start_time": "2022-06-16T14:38:23.770Z"
   },
   {
    "duration": 35,
    "start_time": "2022-06-16T14:38:23.878Z"
   },
   {
    "duration": 18,
    "start_time": "2022-06-16T14:38:23.916Z"
   },
   {
    "duration": 17,
    "start_time": "2022-06-16T14:38:23.937Z"
   },
   {
    "duration": 13,
    "start_time": "2022-06-16T14:38:23.956Z"
   },
   {
    "duration": 57,
    "start_time": "2022-06-16T14:38:23.970Z"
   },
   {
    "duration": 173,
    "start_time": "2022-06-16T14:38:52.116Z"
   },
   {
    "duration": 27,
    "start_time": "2022-06-16T14:39:10.052Z"
   },
   {
    "duration": 1490,
    "start_time": "2022-06-16T14:41:47.589Z"
   },
   {
    "duration": 30,
    "start_time": "2022-06-16T14:41:49.084Z"
   },
   {
    "duration": 5,
    "start_time": "2022-06-16T14:41:49.116Z"
   },
   {
    "duration": 63,
    "start_time": "2022-06-16T14:41:49.123Z"
   },
   {
    "duration": 461,
    "start_time": "2022-06-16T14:41:49.188Z"
   },
   {
    "duration": 1312,
    "start_time": "2022-06-16T14:41:49.650Z"
   },
   {
    "duration": 427,
    "start_time": "2022-06-16T14:41:50.969Z"
   },
   {
    "duration": 8,
    "start_time": "2022-06-16T14:41:51.398Z"
   },
   {
    "duration": 12,
    "start_time": "2022-06-16T14:41:51.408Z"
   },
   {
    "duration": 18,
    "start_time": "2022-06-16T14:41:51.422Z"
   },
   {
    "duration": 32,
    "start_time": "2022-06-16T14:41:51.443Z"
   },
   {
    "duration": 31,
    "start_time": "2022-06-16T14:41:51.478Z"
   },
   {
    "duration": 49,
    "start_time": "2022-06-16T14:41:51.512Z"
   },
   {
    "duration": 25,
    "start_time": "2022-06-16T14:41:51.569Z"
   },
   {
    "duration": 113,
    "start_time": "2022-06-16T14:41:51.599Z"
   },
   {
    "duration": 7,
    "start_time": "2022-06-16T14:41:51.714Z"
   },
   {
    "duration": 25,
    "start_time": "2022-06-16T14:41:51.723Z"
   },
   {
    "duration": 6,
    "start_time": "2022-06-16T14:41:51.750Z"
   },
   {
    "duration": 11,
    "start_time": "2022-06-16T14:42:22.905Z"
   },
   {
    "duration": 19,
    "start_time": "2022-06-16T14:42:55.504Z"
   },
   {
    "duration": 1613,
    "start_time": "2022-06-16T14:44:23.511Z"
   },
   {
    "duration": 38,
    "start_time": "2022-06-16T14:44:25.130Z"
   },
   {
    "duration": 5,
    "start_time": "2022-06-16T14:44:25.173Z"
   },
   {
    "duration": 91,
    "start_time": "2022-06-16T14:44:25.182Z"
   },
   {
    "duration": 488,
    "start_time": "2022-06-16T14:44:25.288Z"
   },
   {
    "duration": 1426,
    "start_time": "2022-06-16T14:44:25.780Z"
   },
   {
    "duration": 467,
    "start_time": "2022-06-16T14:44:27.208Z"
   },
   {
    "duration": 8,
    "start_time": "2022-06-16T14:44:27.677Z"
   },
   {
    "duration": 38,
    "start_time": "2022-06-16T14:44:27.687Z"
   },
   {
    "duration": 9,
    "start_time": "2022-06-16T14:44:27.728Z"
   },
   {
    "duration": 6,
    "start_time": "2022-06-16T14:44:27.739Z"
   },
   {
    "duration": 21,
    "start_time": "2022-06-16T14:44:27.747Z"
   },
   {
    "duration": 58,
    "start_time": "2022-06-16T14:44:27.770Z"
   },
   {
    "duration": 134,
    "start_time": "2022-06-16T14:44:27.871Z"
   },
   {
    "duration": 23,
    "start_time": "2022-06-16T14:44:28.008Z"
   },
   {
    "duration": 6,
    "start_time": "2022-06-16T14:44:28.034Z"
   },
   {
    "duration": 23,
    "start_time": "2022-06-16T14:44:28.043Z"
   },
   {
    "duration": 33,
    "start_time": "2022-06-16T14:44:28.078Z"
   },
   {
    "duration": 13,
    "start_time": "2022-06-16T14:44:28.113Z"
   },
   {
    "duration": 35,
    "start_time": "2022-06-16T14:44:28.129Z"
   },
   {
    "duration": 29,
    "start_time": "2022-06-16T14:45:08.425Z"
   },
   {
    "duration": 1513,
    "start_time": "2022-06-16T14:45:20.689Z"
   },
   {
    "duration": 30,
    "start_time": "2022-06-16T14:45:22.210Z"
   },
   {
    "duration": 67,
    "start_time": "2022-06-16T14:45:22.242Z"
   },
   {
    "duration": 113,
    "start_time": "2022-06-16T14:45:22.311Z"
   },
   {
    "duration": 526,
    "start_time": "2022-06-16T14:45:22.429Z"
   },
   {
    "duration": 1358,
    "start_time": "2022-06-16T14:45:22.958Z"
   },
   {
    "duration": 490,
    "start_time": "2022-06-16T14:45:24.318Z"
   },
   {
    "duration": 6,
    "start_time": "2022-06-16T14:45:24.810Z"
   },
   {
    "duration": 84,
    "start_time": "2022-06-16T14:45:24.818Z"
   },
   {
    "duration": 26,
    "start_time": "2022-06-16T14:45:24.904Z"
   },
   {
    "duration": 78,
    "start_time": "2022-06-16T14:45:24.933Z"
   },
   {
    "duration": 79,
    "start_time": "2022-06-16T14:45:25.013Z"
   },
   {
    "duration": 66,
    "start_time": "2022-06-16T14:45:25.094Z"
   },
   {
    "duration": 137,
    "start_time": "2022-06-16T14:45:25.163Z"
   },
   {
    "duration": 35,
    "start_time": "2022-06-16T14:45:25.302Z"
   },
   {
    "duration": 6,
    "start_time": "2022-06-16T14:45:25.340Z"
   },
   {
    "duration": 71,
    "start_time": "2022-06-16T14:45:25.349Z"
   },
   {
    "duration": 11,
    "start_time": "2022-06-16T14:45:25.422Z"
   },
   {
    "duration": 18,
    "start_time": "2022-06-16T14:45:25.435Z"
   },
   {
    "duration": 171,
    "start_time": "2022-06-16T15:07:35.611Z"
   },
   {
    "duration": 3,
    "start_time": "2022-06-16T15:08:02.711Z"
   },
   {
    "duration": 4,
    "start_time": "2022-06-16T15:09:21.038Z"
   },
   {
    "duration": 15,
    "start_time": "2022-06-16T15:10:17.767Z"
   },
   {
    "duration": 9,
    "start_time": "2022-06-16T15:10:31.077Z"
   },
   {
    "duration": 9,
    "start_time": "2022-06-16T15:17:42.712Z"
   },
   {
    "duration": 1398,
    "start_time": "2022-06-16T15:18:29.348Z"
   },
   {
    "duration": 40,
    "start_time": "2022-06-16T15:18:30.750Z"
   },
   {
    "duration": 5,
    "start_time": "2022-06-16T15:18:30.792Z"
   },
   {
    "duration": 84,
    "start_time": "2022-06-16T15:18:30.799Z"
   },
   {
    "duration": 443,
    "start_time": "2022-06-16T15:18:30.886Z"
   },
   {
    "duration": 1381,
    "start_time": "2022-06-16T15:18:31.331Z"
   },
   {
    "duration": 444,
    "start_time": "2022-06-16T15:18:32.714Z"
   },
   {
    "duration": 15,
    "start_time": "2022-06-16T15:18:33.160Z"
   },
   {
    "duration": 13,
    "start_time": "2022-06-16T15:18:33.177Z"
   },
   {
    "duration": 7,
    "start_time": "2022-06-16T15:18:33.193Z"
   },
   {
    "duration": 10,
    "start_time": "2022-06-16T15:18:33.202Z"
   },
   {
    "duration": 14,
    "start_time": "2022-06-16T15:18:33.215Z"
   },
   {
    "duration": 53,
    "start_time": "2022-06-16T15:18:33.232Z"
   },
   {
    "duration": 78,
    "start_time": "2022-06-16T15:18:33.290Z"
   },
   {
    "duration": 25,
    "start_time": "2022-06-16T15:18:33.370Z"
   },
   {
    "duration": 5,
    "start_time": "2022-06-16T15:18:33.397Z"
   },
   {
    "duration": 63,
    "start_time": "2022-06-16T15:18:33.404Z"
   },
   {
    "duration": 13,
    "start_time": "2022-06-16T15:18:33.473Z"
   },
   {
    "duration": 17,
    "start_time": "2022-06-16T15:18:33.489Z"
   },
   {
    "duration": 14,
    "start_time": "2022-06-16T15:18:33.508Z"
   },
   {
    "duration": 5,
    "start_time": "2022-06-16T15:19:00.202Z"
   },
   {
    "duration": 1543,
    "start_time": "2022-06-16T15:20:30.848Z"
   },
   {
    "duration": 29,
    "start_time": "2022-06-16T15:20:32.393Z"
   },
   {
    "duration": 3,
    "start_time": "2022-06-16T15:20:32.424Z"
   },
   {
    "duration": 100,
    "start_time": "2022-06-16T15:20:32.430Z"
   },
   {
    "duration": 451,
    "start_time": "2022-06-16T15:20:32.532Z"
   },
   {
    "duration": 1279,
    "start_time": "2022-06-16T15:20:32.985Z"
   },
   {
    "duration": 422,
    "start_time": "2022-06-16T15:20:34.269Z"
   },
   {
    "duration": 7,
    "start_time": "2022-06-16T15:20:34.693Z"
   },
   {
    "duration": 28,
    "start_time": "2022-06-16T15:20:34.702Z"
   },
   {
    "duration": 51,
    "start_time": "2022-06-16T15:20:34.732Z"
   },
   {
    "duration": 30,
    "start_time": "2022-06-16T15:20:34.785Z"
   },
   {
    "duration": 66,
    "start_time": "2022-06-16T15:20:34.817Z"
   },
   {
    "duration": 83,
    "start_time": "2022-06-16T15:20:34.885Z"
   },
   {
    "duration": 119,
    "start_time": "2022-06-16T15:20:34.970Z"
   },
   {
    "duration": 25,
    "start_time": "2022-06-16T15:20:35.091Z"
   },
   {
    "duration": 9,
    "start_time": "2022-06-16T15:20:35.118Z"
   },
   {
    "duration": 54,
    "start_time": "2022-06-16T15:20:35.129Z"
   },
   {
    "duration": 18,
    "start_time": "2022-06-16T15:20:35.185Z"
   },
   {
    "duration": 27,
    "start_time": "2022-06-16T15:20:35.205Z"
   },
   {
    "duration": 50,
    "start_time": "2022-06-16T15:20:35.234Z"
   },
   {
    "duration": 1548,
    "start_time": "2022-06-16T15:30:00.743Z"
   },
   {
    "duration": 34,
    "start_time": "2022-06-16T15:30:02.295Z"
   },
   {
    "duration": 5,
    "start_time": "2022-06-16T15:30:02.331Z"
   },
   {
    "duration": 106,
    "start_time": "2022-06-16T15:30:02.339Z"
   },
   {
    "duration": 480,
    "start_time": "2022-06-16T15:30:02.447Z"
   },
   {
    "duration": 1293,
    "start_time": "2022-06-16T15:30:02.929Z"
   },
   {
    "duration": 438,
    "start_time": "2022-06-16T15:30:04.224Z"
   },
   {
    "duration": 14,
    "start_time": "2022-06-16T15:30:04.663Z"
   },
   {
    "duration": 6,
    "start_time": "2022-06-16T15:30:04.680Z"
   },
   {
    "duration": 7,
    "start_time": "2022-06-16T15:30:04.688Z"
   },
   {
    "duration": 6,
    "start_time": "2022-06-16T15:30:04.697Z"
   },
   {
    "duration": 16,
    "start_time": "2022-06-16T15:30:04.705Z"
   },
   {
    "duration": 46,
    "start_time": "2022-06-16T15:30:04.723Z"
   },
   {
    "duration": 98,
    "start_time": "2022-06-16T15:30:04.773Z"
   },
   {
    "duration": 23,
    "start_time": "2022-06-16T15:30:04.875Z"
   },
   {
    "duration": 5,
    "start_time": "2022-06-16T15:30:04.899Z"
   },
   {
    "duration": 31,
    "start_time": "2022-06-16T15:30:04.906Z"
   },
   {
    "duration": 38,
    "start_time": "2022-06-16T15:30:04.939Z"
   },
   {
    "duration": 38,
    "start_time": "2022-06-16T15:30:04.980Z"
   },
   {
    "duration": 27,
    "start_time": "2022-06-16T15:30:05.021Z"
   },
   {
    "duration": 1378,
    "start_time": "2022-06-16T15:33:29.694Z"
   },
   {
    "duration": 29,
    "start_time": "2022-06-16T15:33:31.074Z"
   },
   {
    "duration": 34,
    "start_time": "2022-06-16T15:33:31.105Z"
   },
   {
    "duration": 79,
    "start_time": "2022-06-16T15:33:31.141Z"
   },
   {
    "duration": 410,
    "start_time": "2022-06-16T15:33:31.224Z"
   },
   {
    "duration": 1312,
    "start_time": "2022-06-16T15:33:31.636Z"
   },
   {
    "duration": 452,
    "start_time": "2022-06-16T15:33:32.951Z"
   },
   {
    "duration": 6,
    "start_time": "2022-06-16T15:33:33.405Z"
   },
   {
    "duration": 8,
    "start_time": "2022-06-16T15:33:33.413Z"
   },
   {
    "duration": 8,
    "start_time": "2022-06-16T15:33:33.422Z"
   },
   {
    "duration": 26,
    "start_time": "2022-06-16T15:33:33.432Z"
   },
   {
    "duration": 9,
    "start_time": "2022-06-16T15:33:33.460Z"
   },
   {
    "duration": 90,
    "start_time": "2022-06-16T15:33:33.470Z"
   },
   {
    "duration": 13,
    "start_time": "2022-06-16T15:33:33.564Z"
   },
   {
    "duration": 15,
    "start_time": "2022-06-16T15:33:33.659Z"
   },
   {
    "duration": 6,
    "start_time": "2022-06-16T15:33:33.677Z"
   },
   {
    "duration": 31,
    "start_time": "2022-06-16T15:33:33.685Z"
   },
   {
    "duration": 41,
    "start_time": "2022-06-16T15:33:33.718Z"
   },
   {
    "duration": 14,
    "start_time": "2022-06-16T15:33:33.761Z"
   },
   {
    "duration": 9,
    "start_time": "2022-06-16T15:33:33.777Z"
   },
   {
    "duration": 1501,
    "start_time": "2022-06-16T15:37:28.652Z"
   },
   {
    "duration": 33,
    "start_time": "2022-06-16T15:37:30.157Z"
   },
   {
    "duration": 5,
    "start_time": "2022-06-16T15:37:30.193Z"
   },
   {
    "duration": 75,
    "start_time": "2022-06-16T15:37:30.200Z"
   },
   {
    "duration": 468,
    "start_time": "2022-06-16T15:37:30.278Z"
   },
   {
    "duration": 1478,
    "start_time": "2022-06-16T15:37:30.748Z"
   },
   {
    "duration": 453,
    "start_time": "2022-06-16T15:37:32.228Z"
   },
   {
    "duration": 7,
    "start_time": "2022-06-16T15:37:32.682Z"
   },
   {
    "duration": 35,
    "start_time": "2022-06-16T15:37:32.691Z"
   },
   {
    "duration": 24,
    "start_time": "2022-06-16T15:37:32.728Z"
   },
   {
    "duration": 29,
    "start_time": "2022-06-16T15:37:32.754Z"
   },
   {
    "duration": 22,
    "start_time": "2022-06-16T15:37:32.785Z"
   },
   {
    "duration": 49,
    "start_time": "2022-06-16T15:37:32.809Z"
   },
   {
    "duration": 105,
    "start_time": "2022-06-16T15:37:32.863Z"
   },
   {
    "duration": 145,
    "start_time": "2022-06-16T15:37:32.972Z"
   },
   {
    "duration": 37,
    "start_time": "2022-06-16T15:37:33.119Z"
   },
   {
    "duration": 48,
    "start_time": "2022-06-16T15:37:33.159Z"
   },
   {
    "duration": 13,
    "start_time": "2022-06-16T15:37:33.209Z"
   },
   {
    "duration": 17,
    "start_time": "2022-06-16T15:37:33.223Z"
   },
   {
    "duration": 10,
    "start_time": "2022-06-16T15:37:33.242Z"
   },
   {
    "duration": 1635,
    "start_time": "2022-06-17T12:28:24.973Z"
   },
   {
    "duration": 30,
    "start_time": "2022-06-17T12:28:26.610Z"
   },
   {
    "duration": 3,
    "start_time": "2022-06-17T12:28:26.642Z"
   },
   {
    "duration": 43,
    "start_time": "2022-06-17T12:28:26.647Z"
   },
   {
    "duration": 394,
    "start_time": "2022-06-17T12:28:26.692Z"
   },
   {
    "duration": 1125,
    "start_time": "2022-06-17T12:28:27.088Z"
   },
   {
    "duration": 429,
    "start_time": "2022-06-17T12:28:28.215Z"
   },
   {
    "duration": 7,
    "start_time": "2022-06-17T12:28:28.646Z"
   },
   {
    "duration": 8,
    "start_time": "2022-06-17T12:28:28.655Z"
   },
   {
    "duration": 5,
    "start_time": "2022-06-17T12:28:28.665Z"
   },
   {
    "duration": 37,
    "start_time": "2022-06-17T12:28:28.671Z"
   },
   {
    "duration": 9,
    "start_time": "2022-06-17T12:28:28.710Z"
   },
   {
    "duration": 16,
    "start_time": "2022-06-17T12:28:28.721Z"
   },
   {
    "duration": 63,
    "start_time": "2022-06-17T12:28:28.739Z"
   },
   {
    "duration": 96,
    "start_time": "2022-06-17T12:28:28.803Z"
   },
   {
    "duration": 18,
    "start_time": "2022-06-17T12:28:28.902Z"
   },
   {
    "duration": 40,
    "start_time": "2022-06-17T12:28:28.922Z"
   },
   {
    "duration": 15,
    "start_time": "2022-06-17T12:28:28.964Z"
   },
   {
    "duration": 30,
    "start_time": "2022-06-17T12:28:28.981Z"
   },
   {
    "duration": 32,
    "start_time": "2022-06-17T12:28:29.012Z"
   },
   {
    "duration": 42,
    "start_time": "2022-06-17T14:05:56.844Z"
   },
   {
    "duration": 1282,
    "start_time": "2022-06-17T14:06:04.038Z"
   },
   {
    "duration": 87,
    "start_time": "2022-06-17T14:06:05.322Z"
   },
   {
    "duration": 4,
    "start_time": "2022-06-17T14:06:05.410Z"
   },
   {
    "duration": 43,
    "start_time": "2022-06-17T14:06:05.415Z"
   },
   {
    "duration": 340,
    "start_time": "2022-06-17T14:06:05.459Z"
   },
   {
    "duration": 938,
    "start_time": "2022-06-17T14:06:05.801Z"
   },
   {
    "duration": 410,
    "start_time": "2022-06-17T14:06:06.741Z"
   },
   {
    "duration": 16831,
    "start_time": "2022-06-17T14:06:07.152Z"
   },
   {
    "duration": 0,
    "start_time": "2022-06-17T14:06:23.985Z"
   },
   {
    "duration": 0,
    "start_time": "2022-06-17T14:06:23.986Z"
   },
   {
    "duration": 0,
    "start_time": "2022-06-17T14:06:23.987Z"
   },
   {
    "duration": 1,
    "start_time": "2022-06-17T14:06:23.988Z"
   },
   {
    "duration": 0,
    "start_time": "2022-06-17T14:06:23.990Z"
   },
   {
    "duration": 0,
    "start_time": "2022-06-17T14:06:23.991Z"
   },
   {
    "duration": 0,
    "start_time": "2022-06-17T14:06:23.992Z"
   },
   {
    "duration": 0,
    "start_time": "2022-06-17T14:06:23.993Z"
   },
   {
    "duration": 0,
    "start_time": "2022-06-17T14:06:23.994Z"
   },
   {
    "duration": 0,
    "start_time": "2022-06-17T14:06:23.995Z"
   },
   {
    "duration": 0,
    "start_time": "2022-06-17T14:06:23.997Z"
   },
   {
    "duration": 0,
    "start_time": "2022-06-17T14:06:23.998Z"
   },
   {
    "duration": 5,
    "start_time": "2022-06-17T14:07:02.253Z"
   },
   {
    "duration": 1185,
    "start_time": "2022-06-17T14:07:59.609Z"
   },
   {
    "duration": 29,
    "start_time": "2022-06-17T14:08:00.796Z"
   },
   {
    "duration": 3,
    "start_time": "2022-06-17T14:08:00.826Z"
   },
   {
    "duration": 45,
    "start_time": "2022-06-17T14:08:00.830Z"
   },
   {
    "duration": 327,
    "start_time": "2022-06-17T14:08:00.876Z"
   },
   {
    "duration": 935,
    "start_time": "2022-06-17T14:08:01.205Z"
   },
   {
    "duration": 336,
    "start_time": "2022-06-17T14:08:02.142Z"
   },
   {
    "duration": 98,
    "start_time": "2022-06-17T14:08:02.479Z"
   },
   {
    "duration": 0,
    "start_time": "2022-06-17T14:08:02.579Z"
   },
   {
    "duration": 0,
    "start_time": "2022-06-17T14:08:02.580Z"
   },
   {
    "duration": 0,
    "start_time": "2022-06-17T14:08:02.581Z"
   },
   {
    "duration": 0,
    "start_time": "2022-06-17T14:08:02.583Z"
   },
   {
    "duration": 0,
    "start_time": "2022-06-17T14:08:02.594Z"
   },
   {
    "duration": 0,
    "start_time": "2022-06-17T14:08:02.595Z"
   },
   {
    "duration": 0,
    "start_time": "2022-06-17T14:08:02.597Z"
   },
   {
    "duration": 0,
    "start_time": "2022-06-17T14:08:02.598Z"
   },
   {
    "duration": 0,
    "start_time": "2022-06-17T14:08:02.599Z"
   },
   {
    "duration": 0,
    "start_time": "2022-06-17T14:08:02.600Z"
   },
   {
    "duration": 1,
    "start_time": "2022-06-17T14:08:02.601Z"
   },
   {
    "duration": 0,
    "start_time": "2022-06-17T14:08:02.603Z"
   },
   {
    "duration": 10,
    "start_time": "2022-06-17T14:13:36.993Z"
   },
   {
    "duration": 5,
    "start_time": "2022-06-17T14:13:48.302Z"
   },
   {
    "duration": 5,
    "start_time": "2022-06-17T14:14:03.926Z"
   },
   {
    "duration": 5,
    "start_time": "2022-06-17T14:14:05.998Z"
   },
   {
    "duration": 5,
    "start_time": "2022-06-17T14:14:07.286Z"
   },
   {
    "duration": 5,
    "start_time": "2022-06-17T14:14:09.682Z"
   },
   {
    "duration": 5,
    "start_time": "2022-06-17T14:14:11.518Z"
   },
   {
    "duration": 34,
    "start_time": "2022-06-17T14:24:51.980Z"
   },
   {
    "duration": 1196,
    "start_time": "2022-06-17T14:35:38.703Z"
   },
   {
    "duration": 29,
    "start_time": "2022-06-17T14:35:39.901Z"
   },
   {
    "duration": 3,
    "start_time": "2022-06-17T14:35:39.931Z"
   },
   {
    "duration": 47,
    "start_time": "2022-06-17T14:35:39.935Z"
   },
   {
    "duration": 337,
    "start_time": "2022-06-17T14:35:39.983Z"
   },
   {
    "duration": 921,
    "start_time": "2022-06-17T14:35:40.322Z"
   },
   {
    "duration": 372,
    "start_time": "2022-06-17T14:35:41.245Z"
   },
   {
    "duration": 5,
    "start_time": "2022-06-17T14:35:41.618Z"
   },
   {
    "duration": 9,
    "start_time": "2022-06-17T14:35:41.624Z"
   },
   {
    "duration": 19,
    "start_time": "2022-06-17T14:35:41.634Z"
   },
   {
    "duration": 20,
    "start_time": "2022-06-17T14:35:41.655Z"
   },
   {
    "duration": 38,
    "start_time": "2022-06-17T14:35:41.676Z"
   },
   {
    "duration": 13,
    "start_time": "2022-06-17T14:35:41.715Z"
   },
   {
    "duration": 64,
    "start_time": "2022-06-17T14:35:41.731Z"
   },
   {
    "duration": 12,
    "start_time": "2022-06-17T14:35:41.797Z"
   },
   {
    "duration": 92,
    "start_time": "2022-06-17T14:35:41.810Z"
   },
   {
    "duration": 25,
    "start_time": "2022-06-17T14:35:41.903Z"
   },
   {
    "duration": 16,
    "start_time": "2022-06-17T14:35:41.929Z"
   },
   {
    "duration": 30,
    "start_time": "2022-06-17T14:35:41.947Z"
   },
   {
    "duration": 18,
    "start_time": "2022-06-17T14:35:41.979Z"
   },
   {
    "duration": 3,
    "start_time": "2022-06-17T14:44:12.948Z"
   },
   {
    "duration": 33,
    "start_time": "2022-06-17T14:46:29.825Z"
   },
   {
    "duration": 1264,
    "start_time": "2022-06-17T15:09:25.219Z"
   },
   {
    "duration": 30,
    "start_time": "2022-06-17T15:09:26.485Z"
   },
   {
    "duration": 4,
    "start_time": "2022-06-17T15:09:26.516Z"
   },
   {
    "duration": 51,
    "start_time": "2022-06-17T15:09:26.521Z"
   },
   {
    "duration": 366,
    "start_time": "2022-06-17T15:09:26.574Z"
   },
   {
    "duration": 1109,
    "start_time": "2022-06-17T15:09:26.941Z"
   },
   {
    "duration": 402,
    "start_time": "2022-06-17T15:09:28.052Z"
   },
   {
    "duration": 7,
    "start_time": "2022-06-17T15:09:28.456Z"
   },
   {
    "duration": 8,
    "start_time": "2022-06-17T15:09:28.465Z"
   },
   {
    "duration": 10,
    "start_time": "2022-06-17T15:09:28.475Z"
   },
   {
    "duration": 5,
    "start_time": "2022-06-17T15:09:28.495Z"
   },
   {
    "duration": 11,
    "start_time": "2022-06-17T15:09:28.502Z"
   },
   {
    "duration": 15,
    "start_time": "2022-06-17T15:09:28.515Z"
   },
   {
    "duration": 75,
    "start_time": "2022-06-17T15:09:28.537Z"
   },
   {
    "duration": 14,
    "start_time": "2022-06-17T15:09:28.695Z"
   },
   {
    "duration": 5,
    "start_time": "2022-06-17T15:09:28.711Z"
   },
   {
    "duration": 19,
    "start_time": "2022-06-17T15:09:28.718Z"
   },
   {
    "duration": 9,
    "start_time": "2022-06-17T15:09:28.739Z"
   },
   {
    "duration": 49,
    "start_time": "2022-06-17T15:09:28.750Z"
   },
   {
    "duration": 9,
    "start_time": "2022-06-17T15:09:28.801Z"
   },
   {
    "duration": 1244,
    "start_time": "2022-06-17T15:19:27.622Z"
   },
   {
    "duration": 29,
    "start_time": "2022-06-17T15:19:28.868Z"
   },
   {
    "duration": 3,
    "start_time": "2022-06-17T15:19:28.900Z"
   },
   {
    "duration": 41,
    "start_time": "2022-06-17T15:19:28.904Z"
   },
   {
    "duration": 377,
    "start_time": "2022-06-17T15:19:28.947Z"
   },
   {
    "duration": 1071,
    "start_time": "2022-06-17T15:19:29.325Z"
   },
   {
    "duration": 371,
    "start_time": "2022-06-17T15:19:30.398Z"
   },
   {
    "duration": 5,
    "start_time": "2022-06-17T15:19:30.771Z"
   },
   {
    "duration": 33,
    "start_time": "2022-06-17T15:19:30.778Z"
   },
   {
    "duration": 14,
    "start_time": "2022-06-17T15:19:30.813Z"
   },
   {
    "duration": 10,
    "start_time": "2022-06-17T15:19:30.829Z"
   },
   {
    "duration": 14,
    "start_time": "2022-06-17T15:19:30.841Z"
   },
   {
    "duration": 40,
    "start_time": "2022-06-17T15:19:30.856Z"
   },
   {
    "duration": 11,
    "start_time": "2022-06-17T15:19:30.899Z"
   },
   {
    "duration": 11,
    "start_time": "2022-06-17T15:19:30.995Z"
   },
   {
    "duration": 17,
    "start_time": "2022-06-17T15:19:31.007Z"
   },
   {
    "duration": 37,
    "start_time": "2022-06-17T15:19:31.025Z"
   },
   {
    "duration": 10,
    "start_time": "2022-06-17T15:19:31.064Z"
   },
   {
    "duration": 13,
    "start_time": "2022-06-17T15:19:31.076Z"
   },
   {
    "duration": 17,
    "start_time": "2022-06-17T15:19:31.090Z"
   }
  ],
  "kernelspec": {
   "display_name": "Python 3 (ipykernel)",
   "language": "python",
   "name": "python3"
  },
  "language_info": {
   "codemirror_mode": {
    "name": "ipython",
    "version": 3
   },
   "file_extension": ".py",
   "mimetype": "text/x-python",
   "name": "python",
   "nbconvert_exporter": "python",
   "pygments_lexer": "ipython3",
   "version": "3.10.8"
  },
  "toc": {
   "base_numbering": 1,
   "nav_menu": {},
   "number_sections": false,
   "sideBar": true,
   "skip_h1_title": true,
   "title_cell": "Содержание",
   "title_sidebar": "Contents",
   "toc_cell": true,
   "toc_position": {},
   "toc_section_display": true,
   "toc_window_display": true
  }
 },
 "nbformat": 4,
 "nbformat_minor": 2
}
